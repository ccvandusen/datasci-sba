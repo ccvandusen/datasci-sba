{
 "cells": [
  {
   "cell_type": "markdown",
   "metadata": {},
   "source": [
    "### This script downloads and combines the 540 and 7a loan data and limits the dataset to SFDO counties."
   ]
  },
  {
   "cell_type": "code",
   "execution_count": 1,
   "metadata": {
    "collapsed": true
   },
   "outputs": [],
   "source": [
    "import pandas as pd\n",
    "import numpy as np\n",
    "import matplotlib.pyplot as plt\n",
    "import os\n",
    "%matplotlib inline"
   ]
  },
  {
   "cell_type": "markdown",
   "metadata": {},
   "source": [
    "### Load raw data"
   ]
  },
  {
   "cell_type": "markdown",
   "metadata": {},
   "source": [
    "Save URLs for all the raw loan data."
   ]
  },
  {
   "cell_type": "code",
   "execution_count": 2,
   "metadata": {
    "collapsed": true
   },
   "outputs": [],
   "source": [
    "d_504_url = 'https://c4sfdatascience.blob.core.windows.net/sba/FOIA%20-%20504%20(FY1991-Present).xlsx'\n",
    "d_7a_91_99_url = 'https://c4sfdatascience.blob.core.windows.net/sba/FOIA%20-%207(a)%20(FY1991-FY1999).xlsx'\n",
    "d_7a_00_09_url = 'https://c4sfdatascience.blob.core.windows.net/sba/FOIA%20-%207(a)%20(FY2000-FY2009).xlsx'\n",
    "d_7a_10_present_url = 'https://c4sfdatascience.blob.core.windows.net/sba/FOIA%20-%207(a)%20(FY2010-Present).xlsx'"
   ]
  },
  {
   "cell_type": "markdown",
   "metadata": {},
   "source": [
    "Load data into data frames (NOTE: this method of loading directly from the URL is pretty slow. You might consider downloading data onto local machine first.)"
   ]
  },
  {
   "cell_type": "code",
   "execution_count": 3,
   "metadata": {
    "collapsed": false
   },
   "outputs": [],
   "source": [
    "d_504 = pd.read_excel(d_504_url)"
   ]
  },
  {
   "cell_type": "code",
   "execution_count": 5,
   "metadata": {
    "collapsed": false
   },
   "outputs": [],
   "source": [
    "d_7a_91_99 = pd.read_excel(d_7a_91_99_url, skiprows=1) # 1st row has garbage"
   ]
  },
  {
   "cell_type": "code",
   "execution_count": 9,
   "metadata": {
    "collapsed": true
   },
   "outputs": [],
   "source": [
    "d_7a_00_09 = pd.read_excel(d_7a_00_09_url, skiprows=1) # 1st row has garbage"
   ]
  },
  {
   "cell_type": "code",
   "execution_count": 11,
   "metadata": {
    "collapsed": true
   },
   "outputs": [],
   "source": [
    "d_7a_10_present = pd.read_excel(d_7a_10_present_url)"
   ]
  },
  {
   "cell_type": "markdown",
   "metadata": {},
   "source": [
    "Concatenate all the 7a files (the column names all match up)"
   ]
  },
  {
   "cell_type": "code",
   "execution_count": 13,
   "metadata": {
    "collapsed": false
   },
   "outputs": [],
   "source": [
    "d_7a = pd.concat((d_7a_91_99, d_7a_00_09, d_7a_10_present), axis = 0)"
   ]
  },
  {
   "cell_type": "markdown",
   "metadata": {},
   "source": [
    "### Combine 7a and 504 data"
   ]
  },
  {
   "cell_type": "markdown",
   "metadata": {},
   "source": [
    "Pull in 7a columns from the data dictionary:"
   ]
  },
  {
   "cell_type": "code",
   "execution_count": 15,
   "metadata": {
    "collapsed": false
   },
   "outputs": [],
   "source": [
    "cols_7a = list(pd.read_excel(os.path.join('Data', '7a_504_FOIA Data Dictionary.xlsx'), sheetname='7(a) Data Dictionary').iloc[:, 0])"
   ]
  },
  {
   "cell_type": "markdown",
   "metadata": {},
   "source": [
    "We have two additional columns in the data file which are not present in the data dictionary:"
   ]
  },
  {
   "cell_type": "code",
   "execution_count": 16,
   "metadata": {
    "collapsed": false
   },
   "outputs": [
    {
     "name": "stdout",
     "output_type": "stream",
     "text": [
      "Number of columns in 7a dictionary: 32\n",
      "Number of columns in 7a data: 34\n"
     ]
    }
   ],
   "source": [
    "print 'Number of columns in 7a dictionary:', len(cols_7a)\n",
    "print 'Number of columns in 7a data:', len(d_7a_10_present.columns)"
   ]
  },
  {
   "cell_type": "code",
   "execution_count": 17,
   "metadata": {
    "collapsed": false
   },
   "outputs": [
    {
     "name": "stdout",
     "output_type": "stream",
     "text": [
      "SBADistrictOffice\n",
      "CongressionalDistrict\n"
     ]
    }
   ],
   "source": [
    "for i in d_7a_10_present.columns:\n",
    "    if i not in cols_7a:\n",
    "        print i"
   ]
  },
  {
   "cell_type": "markdown",
   "metadata": {},
   "source": [
    "Pull in 504 columns from the data dictionary:"
   ]
  },
  {
   "cell_type": "code",
   "execution_count": 18,
   "metadata": {
    "collapsed": true
   },
   "outputs": [],
   "source": [
    "cols_504 = list(pd.read_excel(os.path.join('Data', '7a_504_FOIA Data Dictionary.xlsx'), sheetname='504 Data Dictionary').iloc[:, 0])"
   ]
  },
  {
   "cell_type": "markdown",
   "metadata": {},
   "source": [
    "We have two additional columns in the data file which are not present in the data dictionary (JobsSupported is just written differently):"
   ]
  },
  {
   "cell_type": "code",
   "execution_count": 19,
   "metadata": {
    "collapsed": false,
    "scrolled": false
   },
   "outputs": [
    {
     "name": "stdout",
     "output_type": "stream",
     "text": [
      "Number of columns in 540 dictionary: 34\n",
      "Number of columns in 540 data: 36\n"
     ]
    }
   ],
   "source": [
    "print 'Number of columns in 540 dictionary:', len(cols_504)\n",
    "print 'Number of columns in 540 data:', len(d_504.columns)"
   ]
  },
  {
   "cell_type": "code",
   "execution_count": 20,
   "metadata": {
    "collapsed": false,
    "scrolled": true
   },
   "outputs": [
    {
     "name": "stdout",
     "output_type": "stream",
     "text": [
      "SBADistrictOffice\n",
      "CongressionalDistrict\n",
      "JobsSupported\n"
     ]
    }
   ],
   "source": [
    "for i in d_504.columns:\n",
    "    if i not in cols_504:\n",
    "        print i"
   ]
  },
  {
   "cell_type": "markdown",
   "metadata": {},
   "source": [
    "Check which columns that are in 504 are missing in 7a:"
   ]
  },
  {
   "cell_type": "code",
   "execution_count": 21,
   "metadata": {
    "collapsed": false
   },
   "outputs": [
    {
     "name": "stdout",
     "output_type": "stream",
     "text": [
      "CDC_Name\n",
      "CDC_Street\n",
      "CDC_City\n",
      "CDC_State\n",
      "CDC_Zip\n",
      "ThirdPartyLender_Name\n",
      "ThirdPartyLender_City\n",
      "ThirdPartyLender_State\n",
      "ThirdPartyDollars\n"
     ]
    }
   ],
   "source": [
    "for i in d_504.columns: \n",
    "    if i not in d_7a_10_present.columns:\n",
    "        print i"
   ]
  },
  {
   "cell_type": "markdown",
   "metadata": {},
   "source": [
    "Check which columns that are in 7a are missing in 540:"
   ]
  },
  {
   "cell_type": "code",
   "execution_count": 22,
   "metadata": {
    "collapsed": false
   },
   "outputs": [
    {
     "name": "stdout",
     "output_type": "stream",
     "text": [
      "BankName\n",
      "BankStreet\n",
      "BankCity\n",
      "BankState\n",
      "BankZip\n",
      "SBAGuaranteedApproval\n",
      "RevolverStatus\n"
     ]
    }
   ],
   "source": [
    "for i in d_7a_10_present.columns:\n",
    "    if i not in d_504.columns:\n",
    "        print i"
   ]
  },
  {
   "cell_type": "markdown",
   "metadata": {},
   "source": [
    "Combine the 504 and 7a data sets."
   ]
  },
  {
   "cell_type": "code",
   "execution_count": 30,
   "metadata": {
    "collapsed": false
   },
   "outputs": [],
   "source": [
    "combined = pd.concat((d_504, d_7a))"
   ]
  },
  {
   "cell_type": "markdown",
   "metadata": {},
   "source": [
    "### Generate SFDO Dataset"
   ]
  },
  {
   "cell_type": "markdown",
   "metadata": {},
   "source": [
    "Limit dataset to California only."
   ]
  },
  {
   "cell_type": "code",
   "execution_count": 32,
   "metadata": {
    "collapsed": false,
    "scrolled": true
   },
   "outputs": [],
   "source": [
    "combinedca = combined[combined['BorrState'] == 'CA']"
   ]
  },
  {
   "cell_type": "markdown",
   "metadata": {},
   "source": [
    "Limit dataset to the counties that belong to the SFDO (San Francisco District Office)."
   ]
  },
  {
   "cell_type": "code",
   "execution_count": 33,
   "metadata": {
    "collapsed": false
   },
   "outputs": [],
   "source": [
    "combinedca = combinedca[combinedca['ProjectCounty'].isin(['SANTA CRUZ', 'SANTA CLARA', 'SAN MATEO', 'ALAMEDA', 'CONTRA COSTA', 'MARIN',\n",
    "                                           'SAN FRANCISCO', 'SOLANO', 'NAPA', 'SONOMA', 'LAKE', 'MENDOCINO', 'HUMBOLDT',\n",
    "                                           'DEL NORTE'])]"
   ]
  },
  {
   "cell_type": "markdown",
   "metadata": {},
   "source": [
    "Write the clean, relevant data set to CSV."
   ]
  },
  {
   "cell_type": "code",
   "execution_count": 80,
   "metadata": {
    "collapsed": false
   },
   "outputs": [],
   "source": [
    "combinedca.to_csv(os.path.join('Data', 'Clean.csv'), encoding='utf-8', index = False)"
   ]
  }
 ],
 "metadata": {
  "kernelspec": {
   "display_name": "Python [conda root]",
   "language": "python",
   "name": "conda-root-py"
  },
  "language_info": {
   "codemirror_mode": {
    "name": "ipython",
    "version": 2
   },
   "file_extension": ".py",
   "mimetype": "text/x-python",
   "name": "python",
   "nbconvert_exporter": "python",
   "pygments_lexer": "ipython2",
   "version": "2.7.12"
  }
 },
 "nbformat": 4,
 "nbformat_minor": 2
}
