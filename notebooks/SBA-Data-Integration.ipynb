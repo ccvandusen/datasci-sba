{
 "cells": [
  {
   "cell_type": "markdown",
   "metadata": {},
   "source": [
    "This notebook walks through the steps that combine the following data sources:\n",
    "- original SBA data with Yelp and Google review, as well as geo-coding\n",
    "- 2015 number of businesses by employee size, NAICS code, and ZIP code \n",
    "- 2014 IRS tax return data by zip code\n",
    "\n",
    "Although I explain where each file comes from, this script assumes that all three of the following files are present in the working directory (in a folder titled 'Data'):\n",
    "- https://www.dropbox.com/s/a9h343yehh261ha/Clean_Yelp.csv?dl=1\n",
    "- https://www.dropbox.com/s/em2s9fgkl1qajdu/zip_by_naics.csv?dl=1\n",
    "- https://www.dropbox.com/s/po0uv43x6x1omzp/14_irs_zip.csv?dl=1"
   ]
  },
  {
   "cell_type": "code",
   "execution_count": 10,
   "metadata": {
    "collapsed": true
   },
   "outputs": [],
   "source": [
    "import pandas as pd\n",
    "import numpy as np\n",
    "import matplotlib.pyplot as plt\n",
    "import seaborn as sns\n",
    "import os\n",
    "import StringIO\n",
    "import requests\n",
    "%matplotlib inline"
   ]
  },
  {
   "cell_type": "markdown",
   "metadata": {},
   "source": [
    "### Original SBA data, with Yelp and Google reviews, and Lat-Long  \n",
    "\n",
    "Google reviews and goecoordinates came from Noah's dataset on Carto. I pulled in Yelp review data myself (includes average rating, number of review, and Yelp url). Yelp data obtained through Yelp Fusion API using addess and business name search and retrieving the top result (see _yelp.py_ file)"
   ]
  },
  {
   "cell_type": "code",
   "execution_count": 2,
   "metadata": {
    "collapsed": true
   },
   "outputs": [],
   "source": [
    "clean = pd.read_csv(os.path.join('Data', 'Clean_Yelp.csv'))"
   ]
  },
  {
   "cell_type": "code",
   "execution_count": 3,
   "metadata": {
    "collapsed": false
   },
   "outputs": [
    {
     "data": {
      "text/plain": [
       "(43817, 63)"
      ]
     },
     "execution_count": 3,
     "metadata": {},
     "output_type": "execute_result"
    }
   ],
   "source": [
    "clean.shape"
   ]
  },
  {
   "cell_type": "markdown",
   "metadata": {},
   "source": [
    "Get total number of SBA loans: aggregate, 540, and 7a.  \n",
    "_Note_: we will not be using Yelp data for the aggregate analysis of 'overserved' and 'underserved.'"
   ]
  },
  {
   "cell_type": "code",
   "execution_count": 56,
   "metadata": {
    "collapsed": false
   },
   "outputs": [],
   "source": [
    "clean_tots = clean.groupby('borrzip').size()"
   ]
  },
  {
   "cell_type": "code",
   "execution_count": 57,
   "metadata": {
    "collapsed": false
   },
   "outputs": [],
   "source": [
    "clean_tots_540 = clean[clean['program'] == '504'].groupby('borrzip').size()"
   ]
  },
  {
   "cell_type": "code",
   "execution_count": 58,
   "metadata": {
    "collapsed": true
   },
   "outputs": [],
   "source": [
    "clean_tots_7a = clean[clean['program'] == '7(a)'].groupby('borrzip').size()"
   ]
  },
  {
   "cell_type": "markdown",
   "metadata": {},
   "source": [
    "### 2015 Zip Data for number of businesses by employee size and NAICS code  \n",
    "\n",
    "Original data obtained here: https://factfinder.census.gov/faces/tableservices/jsf/pages/productview.xhtml?src=bkmk  \n",
    "Survey methodology: https://www.census.gov/programs-surveys/cbp/technical-documentation/methodology.html  \n",
    "Downloaded file from my dropbox: https://www.dropbox.com/s/27xjbyp4bcp51pl/CB1500CZ21.dat?dl=0"
   ]
  },
  {
   "cell_type": "markdown",
   "metadata": {},
   "source": [
    "#### NOTE: the following 6 steps pull the data from the original large dataset, which I've excluded due to its size. Merely check the code here, and then skip to where we load _zip_by_naics_ from csv.\n",
    "\n",
    "Load the enormous file:"
   ]
  },
  {
   "cell_type": "code",
   "execution_count": null,
   "metadata": {
    "collapsed": true
   },
   "outputs": [],
   "source": [
    "zip_buss = pd.read_table(os.path.join('~\\\\Dropbox\\\\Documents\\\\Misc', 'CB1500CZ21.dat'), sep=\"|\")"
   ]
  },
  {
   "cell_type": "markdown",
   "metadata": {},
   "source": [
    "Keep only ZIP codes that are in the SBA data."
   ]
  },
  {
   "cell_type": "code",
   "execution_count": 200,
   "metadata": {
    "collapsed": false
   },
   "outputs": [],
   "source": [
    "zip_clean = zip_buss[zip_buss['ZIPCODE'].isin(clean['borrzip'].unique())]"
   ]
  },
  {
   "cell_type": "markdown",
   "metadata": {},
   "source": [
    "Check file length after trimming."
   ]
  },
  {
   "cell_type": "code",
   "execution_count": 201,
   "metadata": {
    "collapsed": false
   },
   "outputs": [
    {
     "data": {
      "text/plain": [
       "2827380"
      ]
     },
     "execution_count": 201,
     "metadata": {},
     "output_type": "execute_result"
    }
   ],
   "source": [
    "len(zip_clean)"
   ]
  },
  {
   "cell_type": "markdown",
   "metadata": {},
   "source": [
    "The definition of 'small business' is '500 or fewer employees.' Let's filter our data accordingly.  Note that this file still has all the NAICS code breakdowns, which I keep because it might be useful for a future analysis."
   ]
  },
  {
   "cell_type": "code",
   "execution_count": null,
   "metadata": {
    "collapsed": true
   },
   "outputs": [],
   "source": [
    "emp_sizes = ['Establishments with 1 to 4 employees',\n",
    "             'Establishments with 5 to 9 employees',\n",
    "             'Establishments with 10 to 19 employees',\n",
    "             'Establishments with 20 to 49 employees',\n",
    "             'Establishments with 50 to 99 employees',\n",
    "             'Establishments with 100 to 249 employees',\n",
    "             'Establishments with 250 to 499 employees']"
   ]
  },
  {
   "cell_type": "markdown",
   "metadata": {},
   "source": [
    "These are the columns we care about:"
   ]
  },
  {
   "cell_type": "code",
   "execution_count": null,
   "metadata": {
    "collapsed": true
   },
   "outputs": [],
   "source": [
    "cols = ['ZIPCODE',\n",
    "        'GEO_ID',\n",
    "        'NAICS2012',\n",
    "        'NAICS2012_TTL',\n",
    "        'ESTAB']"
   ]
  },
  {
   "cell_type": "markdown",
   "metadata": {},
   "source": [
    "Create the filtered file."
   ]
  },
  {
   "cell_type": "code",
   "execution_count": 202,
   "metadata": {
    "collapsed": true
   },
   "outputs": [],
   "source": [
    "zip_size = pd.DataFrame(zip_clean[zip_clean['EMPSZES_TTL'].isin(emp_sizes)][cols].groupby(['ZIPCODE',\n",
    "                                                                                          'GEO_ID',\n",
    "                                                                                          'NAICS2012',\n",
    "                                                                                          'NAICS2012_TTL']).ESTAB.sum())"
   ]
  },
  {
   "cell_type": "markdown",
   "metadata": {},
   "source": [
    "Send filtered file to CSV."
   ]
  },
  {
   "cell_type": "code",
   "execution_count": 203,
   "metadata": {
    "collapsed": false
   },
   "outputs": [],
   "source": [
    "zip_size.to_csv(os.path.join('Data', 'zip_by_naics.csv'))"
   ]
  },
  {
   "cell_type": "markdown",
   "metadata": {},
   "source": [
    "Load file from CSV."
   ]
  },
  {
   "cell_type": "code",
   "execution_count": 59,
   "metadata": {
    "collapsed": true
   },
   "outputs": [],
   "source": [
    "zip_by_naics = pd.read_csv(os.path.join('Data', 'zip_by_naics.csv'))"
   ]
  },
  {
   "cell_type": "markdown",
   "metadata": {},
   "source": [
    "### IRS tax return by ZIP code data from 2014  \n",
    "\n",
    "Income and tax data obtained from: https://www.irs.gov/uac/soi-tax-stats-individual-income-tax-statistics-2014-zip-code-data-soi  \n",
    "Data dictionary is there too, but here is the downlooad link: https://www.irs.gov/pub/irs-soi/14zpdoc.doc"
   ]
  },
  {
   "cell_type": "code",
   "execution_count": 60,
   "metadata": {
    "collapsed": true
   },
   "outputs": [],
   "source": [
    "zip_irs = pd.read_csv(os.path.join('Data', '14_irs_zip.csv'))"
   ]
  },
  {
   "cell_type": "markdown",
   "metadata": {},
   "source": [
    "There is A LOT of data, but for now, we'll only look at the mean adjusted grosss income by ZIP code.  \n",
    "Note: `mean_agi` is calculated as _adjusted gross income_ divided by the _total number of returns_ plus the _number of joint returns_ (in order to obtain the mean AGI per taxable person)."
   ]
  },
  {
   "cell_type": "code",
   "execution_count": 61,
   "metadata": {
    "collapsed": false
   },
   "outputs": [],
   "source": [
    "zip_irs['mean_agi'] = (zip_irs['A00100']/(zip_irs['N1']+zip_irs['MARS2'])*1000).map(lambda x: int(x))"
   ]
  },
  {
   "cell_type": "code",
   "execution_count": 62,
   "metadata": {
    "collapsed": true
   },
   "outputs": [],
   "source": [
    "zip_agi = zip_irs[['mean_agi', 'ZIPCODE']]"
   ]
  },
  {
   "cell_type": "markdown",
   "metadata": {},
   "source": [
    "### Combine SBA, total businesses, and IRS data into aggregated file"
   ]
  },
  {
   "cell_type": "markdown",
   "metadata": {},
   "source": [
    "Merge SBA data for total SBA loans, 540 loans, and 7a loans."
   ]
  },
  {
   "cell_type": "code",
   "execution_count": 63,
   "metadata": {
    "collapsed": false
   },
   "outputs": [],
   "source": [
    "agg = pd.concat([clean_tots, clean_tots_540, clean_tots_7a], axis = 1)\n",
    "agg.rename(columns={0:'total_SBA', 1:'540', 2:'7a'},inplace=True)"
   ]
  },
  {
   "cell_type": "markdown",
   "metadata": {},
   "source": [
    "Merge SBA data with NAICS data. We do a left join to keep all SBA data, and we only take the aggregated NAICS data."
   ]
  },
  {
   "cell_type": "code",
   "execution_count": 64,
   "metadata": {
    "collapsed": false
   },
   "outputs": [],
   "source": [
    "agg2 = pd.merge(agg, zip_by_naics[zip_by_naics['NAICS2012']=='0'][['ESTAB', 'GEO_ID', 'ZIPCODE']], \n",
    "         left_index=True, right_on='ZIPCODE', how='left')"
   ]
  },
  {
   "cell_type": "code",
   "execution_count": 65,
   "metadata": {
    "collapsed": false
   },
   "outputs": [],
   "source": [
    "agg2 = agg2.set_index('ZIPCODE')"
   ]
  },
  {
   "cell_type": "markdown",
   "metadata": {},
   "source": [
    "Merge data with IRS data. We again do a left join to keep all SBA data."
   ]
  },
  {
   "cell_type": "code",
   "execution_count": 66,
   "metadata": {
    "collapsed": false
   },
   "outputs": [],
   "source": [
    "agg3 = pd.merge(agg2, zip_agi, left_index=True, right_on='ZIPCODE', how='left')"
   ]
  },
  {
   "cell_type": "markdown",
   "metadata": {},
   "source": [
    "Zip IRS data has 51 records for zip code 0 and 99999, and plus these are useless zip codes, so we remove them."
   ]
  },
  {
   "cell_type": "code",
   "execution_count": 67,
   "metadata": {
    "collapsed": false
   },
   "outputs": [],
   "source": [
    "agg3 = agg3[(agg3['ZIPCODE'] <> 99999) & (agg3['ZIPCODE'] <> 0)]"
   ]
  },
  {
   "cell_type": "markdown",
   "metadata": {},
   "source": [
    "Get preliminary metrics, which are the ratios of # of SBA loans (total, 540, and 7a) to total number of businesses."
   ]
  },
  {
   "cell_type": "code",
   "execution_count": 68,
   "metadata": {
    "collapsed": true
   },
   "outputs": [],
   "source": [
    "agg3['SBA_per_Small'] = agg3['total_SBA']/agg3['ESTAB']"
   ]
  },
  {
   "cell_type": "code",
   "execution_count": 69,
   "metadata": {
    "collapsed": true
   },
   "outputs": [],
   "source": [
    "agg3['540_per_Small'] = agg3['540']/agg3['ESTAB']"
   ]
  },
  {
   "cell_type": "code",
   "execution_count": 70,
   "metadata": {
    "collapsed": true
   },
   "outputs": [],
   "source": [
    "agg3['7a_per_Small'] = agg3['7a']/agg3['ESTAB']"
   ]
  },
  {
   "cell_type": "markdown",
   "metadata": {},
   "source": [
    "For easier exploratory analysis, we will bucket all the key metrics into 8 distinct quantiles."
   ]
  },
  {
   "cell_type": "code",
   "execution_count": 74,
   "metadata": {
    "collapsed": false
   },
   "outputs": [],
   "source": [
    "# Ratio of all SBA loans to number of small businesses\n",
    "agg3 = agg3.assign(tot_ratio_buckets = pd.qcut(agg3['SBA_per_Small'], 8)) # original buckets\n",
    "agg3 = agg3.assign(tot_ratio_buckets_rank = pd.qcut(agg3['SBA_per_Small'], 8, labels = False)) # buckets labeled by ranking\n",
    "agg3['tot_ratio_buckets_rank'] = agg3['tot_ratio_buckets_rank'] + 1 # we want them written as 1-8, not 0-7\n",
    "# Ratio of 540 loans to number of small businesses\n",
    "agg3 = agg3.assign(_540_ratio_buckets = pd.qcut(agg3['540_per_Small'], 8)) # original buckets\n",
    "agg3 = agg3.assign(_540_ratio_buckets_rank = pd.qcut(agg3['540_per_Small'], 8, labels = False)) # buckets labeled by ranking\n",
    "agg3['_540_ratio_buckets_rank'] = agg3['_540_ratio_buckets_rank'] + 1# we want them written as 1-8, not 0-7\n",
    "# Ratio of 7a loans to number of small businesses\n",
    "agg3 = agg3.assign(_7a_ratio_buckets = pd.qcut(agg3['7a_per_Small'], 8)) # original buckets\n",
    "agg3 = agg3.assign(_7a_ratio_buckets_rank = pd.qcut(agg3['7a_per_Small'], 8, labels = False)) # buckets labeled by ranking\n",
    "agg3['_7a_ratio_buckets_rank'] = agg3['_7a_ratio_buckets_rank'] + 1# we want them written as 1-8, not 0-7\n",
    "# Mean AGI buckets\n",
    "agg3 = agg3.assign(mean_agi_buckets = pd.qcut(agg3['mean_agi'], 8)) # original buckets\n",
    "agg3 = agg3.assign(mean_agi_buckets_rank = pd.qcut(agg3['mean_agi'], 8, labels = False)) # buckets labeled by ranking\n",
    "agg3['mean_agi_buckets_rank'] = agg3['mean_agi_buckets_rank'] + 1# we want them written as 1-8, not 0-7"
   ]
  },
  {
   "cell_type": "markdown",
   "metadata": {},
   "source": [
    "Send combined file to CSV."
   ]
  },
  {
   "cell_type": "code",
   "execution_count": 77,
   "metadata": {
    "collapsed": false
   },
   "outputs": [],
   "source": [
    "agg3.to_csv(os.path.join('Data', 'combined.csv'), index=False)"
   ]
  }
 ],
 "metadata": {
  "kernelspec": {
   "display_name": "Python 3",
   "language": "python",
   "name": "python3"
  },
  "language_info": {
   "codemirror_mode": {
    "name": "ipython",
    "version": 3
   },
   "file_extension": ".py",
   "mimetype": "text/x-python",
   "name": "python",
   "nbconvert_exporter": "python",
   "pygments_lexer": "ipython3",
   "version": "3.6.0"
  }
 },
 "nbformat": 4,
 "nbformat_minor": 2
}
